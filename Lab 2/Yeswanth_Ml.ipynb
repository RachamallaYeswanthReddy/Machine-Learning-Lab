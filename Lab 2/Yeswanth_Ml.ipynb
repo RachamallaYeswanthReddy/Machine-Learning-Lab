{
 "cells": [
  {
   "cell_type": "code",
   "execution_count": null,
   "id": "bb493f49",
   "metadata": {},
   "outputs": [],
   "source": []
  },
  {
   "cell_type": "markdown",
   "id": "f3be5ec8",
   "metadata": {},
   "source": [
    "**1.Importing the Libraries**\n",
    " "
   ]
  },
  {
   "cell_type": "code",
   "execution_count": null,
   "id": "37886999",
   "metadata": {},
   "outputs": [],
   "source": [
    "import pandas as pd\n",
    "import numpy as np \n",
    "import matplotlib.pyplot as plt\n",
    "import seaborn as sns"
   ]
  },
  {
   "cell_type": "code",
   "execution_count": null,
   "id": "275c9614",
   "metadata": {},
   "outputs": [],
   "source": [
    "weather_data  = pd.read_csv('C:/SAI/Semesters/6th Semester/ML Lab/Lab 2/Bias_correction_ucl.csv')"
   ]
  },
  {
   "cell_type": "code",
   "execution_count": null,
   "id": "83b7c9ea",
   "metadata": {},
   "outputs": [],
   "source": [
    "weather_data "
   ]
  },
  {
   "cell_type": "markdown",
   "id": "f381a2b1",
   "metadata": {},
   "source": [
    "#  Data Exploration:  \n",
    " - Display the dimension,shape, size and attributes type\n",
    " - display the first few rows.\n",
    " - Provide summary statistics for key features. \n",
    " - Identify and handle any missing values\n"
   ]
  },
  {
   "cell_type": "code",
   "execution_count": null,
   "id": "6f1355b8",
   "metadata": {},
   "outputs": [],
   "source": [
    "def data_exploration(weather_data):\n",
    "    print(\"\\n Data Exploration:\")\n",
    "    print(\"Dimension: \", weather_data.ndim)\n",
    "    print(\"Shape: \", weather_data.shape)\n",
    "    print(\"Size: \", weather_data.size)\n",
    "    print(\"Attributes types:\\n \", weather_data.dtypes)\n",
    "    print(\"First few rows:\\n \", weather_data.head())\n",
    "    print(\"Summary statistics:\\n \", weather_data.describe())\n",
    "    weather_data = weather_data.dropna()\n",
    "    weather_data = weather_data[(weather_data['Present_Tmax']>0) & (weather_data['Present_Tmin']>0)]\n",
    "    return weather_data"
   ]
  },
  {
   "cell_type": "markdown",
   "id": "65896d73",
   "metadata": {},
   "source": [
    "# Temporal Analysis:  \n",
    "- Explore the temporal aspect of the dataset. Are there any trends or patterns over time? \n",
    "- Visualize the variation in temperature (Present_Tmax and Present_Tmin) over different years."
   ]
  },
  {
   "cell_type": "code",
   "execution_count": null,
   "id": "52ff6b8c",
   "metadata": {},
   "outputs": [],
   "source": [
    "def temporal_analysis(weather_data):\n",
    "        print(\"\\nTemporal Analysis\")\n",
    "        print(\"Visualize the variation in temperature over different years\")\n",
    "\n",
    "        weather_data = data_exploration(weather_data)\n",
    "\n",
    "        weather_data['Date'] = pd.to_datetime(weather_data['Date'])\n",
    "\n",
    "        weather_data.set_index('Date', inplace=True)\n",
    "\n",
    "        plt.figure(figsize=(12, 8))\n",
    "        sns.lineplot(data=weather_data[['Present_Tmax', 'Present_Tmin']])\n",
    "        plt.title('Temperature Variation Over Different Years')\n",
    "        plt.xlabel('Date')\n",
    "        plt.ylabel('Temperature (°C)')\n",
    "        plt.show()\n",
    "\n"
   ]
  },
  {
   "cell_type": "markdown",
   "id": "dfcc252f",
   "metadata": {},
   "source": [
    "# Geographical Analysis:  \n",
    "- Explore the geographical features (lat, lon, DEM, Slope). \n",
    "- Visualize the distribution of weather stations on a map. \n",
    "- Analyze how elevation (DEM) and slope impact temperature. "
   ]
  },
  {
   "cell_type": "code",
   "execution_count": null,
   "id": "ea6a2f9a",
   "metadata": {},
   "outputs": [],
   "source": [
    "def geographical_analysis(df):\n",
    "    print(\"\\nGeographical Analysis:\")\n",
    "    print(\"1. Explore the geographical features (lat, lon, DEM, Slope)\")\n",
    "    print(\"2. Visualize the distribution of weather stations on a map\")\n",
    "    print(\"3. Analyze how elevation (DEM) and slope impact temperature\")\n",
    "    option = int(input(\"Select the option (1-3): \"))\n",
    "\n",
    "    if option == 1:\n",
    "        print(\"\\nGeographical Features:\")\n",
    "        geographical_features = ['lat', 'lon', 'DEM', 'Slope']\n",
    "        print(df[geographical_features].head())\n",
    "        print(\"\\nGeographical Features Distribution:\")\n",
    "        print(df[geographical_features].describe())\n",
    "\n",
    "    elif option == 2:\n",
    "        # Visualize the distribution of weather stations on a map\n",
    "        plt.figure(figsize=(10, 8))\n",
    "        plt.scatter(df['lon'], df['lat'], c='blue', marker='o', alpha=0.6)\n",
    "        plt.xlabel('Longitude')\n",
    "        plt.ylabel('Latitude')\n",
    "        plt.title('Distribution of Weather Stations on Map')\n",
    "        plt.show()\n",
    "\n",
    "    elif option == 3:\n",
    "        # Analyze how elevation (DEM) and slope impact temperature\n",
    "        plt.figure(figsize=(14, 6))\n",
    "        \n",
    "        # Scatter plot for elevation vs. temperature\n",
    "        plt.subplot(1, 2, 1)\n",
    "        sns.scatterplot(x='DEM', y='Present_Tmax', data=df)\n",
    "        plt.xlabel('Elevation (DEM)')\n",
    "        plt.ylabel('Present_Tmax')\n",
    "        plt.title('Impact of Elevation on Maximum Temperature')\n",
    "\n",
    "        # Scatter plot for slope vs. temperature\n",
    "        plt.subplot(1, 2, 2)\n",
    "        sns.scatterplot(x='Slope', y='Present_Tmax', data=df)\n",
    "        plt.xlabel('Slope')\n",
    "        plt.ylabel('Present_Tmax')\n",
    "        plt.title('Impact of Slope on Maximum Temperature')\n",
    "\n",
    "        plt.tight_layout()\n",
    "        plt.show()"
   ]
  },
  {
   "cell_type": "markdown",
   "id": "1788fcab",
   "metadata": {},
   "source": [
    "# Correlation Analysis:  \n",
    " - Calculate and visualize the correlation matrix for numerical features. \n",
    " - Identify highly correlated featu"
   ]
  },
  {
   "cell_type": "code",
   "execution_count": null,
   "id": "3dd05861",
   "metadata": {},
   "outputs": [],
   "source": [
    "def correlational_analysis(weather_data):\n",
    "    weather_data_numeric = weather_data.drop(columns=['Date'])\n",
    "\n",
    "    correlational_matrix = weather_data_numeric.corr()\n",
    "\n",
    "    plt.figure(figsize=(14, 10))\n",
    "    sns.heatmap(correlational_matrix, annot=True, cmap='coolwarm', fmt=\".2f\")\n",
    "    plt.title(\"Correlation Matrix\")\n",
    "    plt.show()\n"
   ]
  },
  {
   "cell_type": "markdown",
   "id": "01979308",
   "metadata": {},
   "source": [
    "# Feature-specific Analysis:  \n",
    "- Explore the LDAPS features (RH, Tmax_lapse, Tmin_lapse, WS, LH, CC, PPT). \n",
    "- Visualize the relationships between LDAPS features and other key variables. \n",
    "- Analyze the impact of cloud cover and precipitation on temperature. \n",
    "- Plot the individual box plot for all attributes except the date attribute"
   ]
  },
  {
   "cell_type": "code",
   "execution_count": null,
   "id": "02b112d8",
   "metadata": {},
   "outputs": [],
   "source": [
    "\n",
    "def feature_specific_analysis(df):\n",
    "    print(\"\\nFeature Specific Analysis:\")\n",
    "    print(\"1. Explore the LDAPS features and Visualize the relationships\")\n",
    "    print(\"2. Analyze the impact of cloud cover and precipitation on temperature\")\n",
    "    option = int(input(\"Select the option (1-2): \"))\n",
    "\n",
    "    ldaps_features = ['LDAPS_RHmin', 'LDAPS_RHmax', 'LDAPS_Tmax_lapse', 'LDAPS_Tmin_lapse',\n",
    "                      'LDAPS_WS', 'LDAPS_LH', 'LDAPS_CC1', 'LDAPS_CC2', 'LDAPS_CC3', 'LDAPS_CC4',\n",
    "                      'LDAPS_PPT1', 'LDAPS_PPT2', 'LDAPS_PPT3', 'LDAPS_PPT4']\n",
    "\n",
    "    if option == 1:\n",
    "        print(\"\\nLDAPS Features:\")\n",
    "        print(df[ldaps_features].head())\n",
    "        print(\"\\nLDAPS Features Distribution:\")\n",
    "        print(df[ldaps_features].describe())\n",
    "        print(\"\\nLDAPS Features Correlation Matrix:\")\n",
    "        plt.figure(figsize=[14, 18])\n",
    "        sns.heatmap(df[ldaps_features].corr(), annot=True, cmap='viridis', fmt=\".2f\", linewidth=1)\n",
    "        plt.title(\"LDAPS Features Correlation Matrix\")\n",
    "        plt.show()\n",
    "\n",
    "        key_variables = ['Present_Tmax', 'Present_Tmin', 'LDAPS_WS', 'LDAPS_LH']\n",
    "\n",
    "        plt.figure(figsize=[18, 12])\n",
    "        for i, feature in enumerate(ldaps_features):\n",
    "            for j, var in enumerate(key_variables):\n",
    "                plt.subplot(len(ldaps_features), len(key_variables), i * len(key_variables) + j + 1)\n",
    "                plt.scatter(df[var], df[feature], alpha=0.6)\n",
    "                plt.xlabel(var)\n",
    "                plt.ylabel(feature)\n",
    "                plt.title(f\"Relationship between {var} and {feature}\")\n",
    "        plt.tight_layout()\n",
    "        plt.show()\n",
    "    elif option == 2:\n",
    "        all_attributes = df.columns.difference(ldaps_features)\n",
    "        plt.figure(figsize=[14, 10])\n",
    "        sns.boxplot(data=df[all_attributes], palette='viridis')\n",
    "        plt.title(\"Box Plot for All Attributes Except LDAPS Features\")\n",
    "        plt.show()\n",
    "\n",
    "        temp_variables = ['Present_Tmax', 'Present_Tmin']\n",
    "        cloud_variables = ['LDAPS_CC1', 'LDAPS_CC2', 'LDAPS_CC3', 'LDAPS_CC4']\n",
    "        ppt_variables = ['LDAPS_PPT1', 'LDAPS_PPT2', 'LDAPS_PPT3', 'LDAPS_PPT4']\n",
    "\n",
    "        for temp_var in temp_variables:\n",
    "            for cloud_var in cloud_variables:\n",
    "                plt.scatter(df[cloud_var], df[temp_var])\n",
    "                plt.xlabel(cloud_var)\n",
    "                plt.ylabel(temp_var)\n",
    "                plt.title(f\"Impact of {cloud_var} on {temp_var}\")\n",
    "                plt.show()\n",
    "\n",
    "        for temp_var in temp_variables:\n",
    "            for ppt_var in ppt_variables:\n",
    "                plt.scatter(df[ppt_var], df[temp_var])\n",
    "                plt.xlabel(ppt_var)\n",
    "                plt.ylabel(temp_var)\n",
    "                plt.title(f\"Impact of {ppt_var} on {temp_var}\")\n",
    "                plt.show()"
   ]
  },
  {
   "cell_type": "markdown",
   "id": "e527800a",
   "metadata": {},
   "source": [
    "# Box plot for All Attributes"
   ]
  },
  {
   "cell_type": "code",
   "execution_count": null,
   "id": "283aa297",
   "metadata": {},
   "outputs": [],
   "source": [
    "def box_plot_all_attributes(dataset):\n",
    "    box_plot_attributes = dataset.columns.difference(['Date'])\n",
    "    plt.figure(figsize=(18, 12))\n",
    "\n",
    "    for attribute in box_plot_attributes:\n",
    "        plt.figure(figsize=(8, 6))\n",
    "        sns.boxplot(x=attribute, data=dataset)\n",
    "        plt.title(f'Box Plot for {attribute}')\n",
    "        plt.xticks(rotation=45)\n",
    "        plt.show()"
   ]
  },
  {
   "cell_type": "markdown",
   "id": "c2981b2f",
   "metadata": {},
   "source": [
    "# Data Visualization and Handling"
   ]
  },
  {
   "cell_type": "code",
   "execution_count": null,
   "id": "031cf602",
   "metadata": {},
   "outputs": [],
   "source": [
    "while True:\n",
    "    print(\"\\nMenu \")\n",
    "    print(\"1. Data Exploration\")\n",
    "    print(\"2. Temporal Analysis\")\n",
    "    print(\"3. Geographical Analysis\")\n",
    "    print(\"4. Correaltion Analysis\")\n",
    "    print(\"5. Feature-specific  Analysis\")\n",
    "    print(\"6. Additional Task :  Box plot for All Attributes\")\n",
    "    print(\"7. Exit\")\n",
    "    \n",
    "    choice = int(input(\"Enter your choice(1-7): \"))\n",
    "    \n",
    "    if choice == 1:\n",
    "        weather_data = data_exploration(weather_data)\n",
    "    elif choice == 2:\n",
    "        temporal_analysis(weather_data)\n",
    "    elif choice == 3:\n",
    "        geographical_analysis(weather_data)\n",
    "    elif choice == 4:\n",
    "        correlational_analysis(weather_data)\n",
    "    elif choice == 5:\n",
    "        feature_specific_analysis(weather_data)\n",
    "    elif choice == 6:\n",
    "        box_plot_all_attributes(weather_data)\n",
    "    elif choice == 7:\n",
    "        print(\"Exiting the program. Thank you!\")\n",
    "        break\n",
    "    else:\n",
    "        print(\"Invalid choice. Please enter a valid option: \")\n",
    "        \n"
   ]
  }
 ],
 "metadata": {
  "kernelspec": {
   "display_name": "Python 3 (ipykernel)",
   "language": "python",
   "name": "python3"
  },
  "language_info": {
   "codemirror_mode": {
    "name": "ipython",
    "version": 3
   },
   "file_extension": ".py",
   "mimetype": "text/x-python",
   "name": "python",
   "nbconvert_exporter": "python",
   "pygments_lexer": "ipython3",
   "version": "3.10.3"
  }
 },
 "nbformat": 4,
 "nbformat_minor": 5
}
